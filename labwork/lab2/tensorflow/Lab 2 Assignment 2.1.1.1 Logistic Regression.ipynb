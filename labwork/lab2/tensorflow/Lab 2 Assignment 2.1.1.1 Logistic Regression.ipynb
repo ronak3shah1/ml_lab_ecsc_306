{
 "cells": [
  {
   "cell_type": "code",
   "execution_count": 1,
   "metadata": {},
   "outputs": [
    {
     "name": "stdout",
     "output_type": "stream",
     "text": [
      "h0 values: 0.0324959\n",
      "0.0\n"
     ]
    }
   ],
   "source": [
    "import tensorflow as tf\n",
    "import matplotlib.pyplot as plt\n",
    "\n",
    "a = tf.constant([15.0,16.0,17.0,12.0,11.0,10.0,9.0],name ='x')\n",
    "b = tf.constant([7.0,1.0,2.0,5.0,4.0,9.0,6.0],name='y')\n",
    "training_epoch = 500\n",
    "learning_rate = 0.005\n",
    "t1=0.0\n",
    "t0=0.0\n",
    "for epoch in range(training_epoch):\n",
    "    h0=tf.divide(1.0,tf.add(1.0,tf.exp(-tf.add(t0,tf.reduce_sum(tf.multiply(t1,a))))))\n",
    "    tn1 = tf.subtract(t1,tf.multiply(learning_rate,tf.divide(h0,tf.cast(tf.size(a),tf.float32))))\n",
    "    t1=tn1\n",
    "    model=tf.global_variables_initializer()\n",
    "sess = tf.Session() \n",
    "print(\"h0 values:\",sess.run(h0))\n",
    "c=tf.cond(h0<0.5,lambda:0.00,lambda:1.00)\n",
    "print(sess.run(c))\n",
    "\n"
   ]
  },
  {
   "cell_type": "code",
   "execution_count": 2,
   "metadata": {},
   "outputs": [
    {
     "name": "stdout",
     "output_type": "stream",
     "text": [
      "0.0\n"
     ]
    }
   ],
   "source": [
    "print(sess.run(c))"
   ]
  },
  {
   "cell_type": "code",
   "execution_count": 3,
   "metadata": {},
   "outputs": [
    {
     "data": {
      "text/plain": [
       "4.6051702"
      ]
     },
     "execution_count": 3,
     "metadata": {},
     "output_type": "execute_result"
    }
   ],
   "source": [
    "g=tf.log(100.0)\n",
    "sess.run(g)"
   ]
  },
  {
   "cell_type": "code",
   "execution_count": 4,
   "metadata": {},
   "outputs": [
    {
     "data": {
      "text/plain": [
       "inf"
      ]
     },
     "execution_count": 4,
     "metadata": {},
     "output_type": "execute_result"
    }
   ],
   "source": [
    "#cost function\n",
    "v=tf.multiply(b,tf.log(c))\n",
    "n=tf.subtract(1.0,b)\n",
    "m=tf.log(tf.subtract(1.0,c))\n",
    "m1=tf.multiply(n,m)\n",
    "m2=tf.reduce_sum(tf.subtract(-v,m1))\n",
    "sess.run(m2)"
   ]
  },
  {
   "cell_type": "code",
   "execution_count": null,
   "metadata": {
    "collapsed": true
   },
   "outputs": [],
   "source": []
  }
 ],
 "metadata": {
  "kernelspec": {
   "display_name": "Python 3",
   "language": "python",
   "name": "python3"
  },
  "language_info": {
   "codemirror_mode": {
    "name": "ipython",
    "version": 3
   },
   "file_extension": ".py",
   "mimetype": "text/x-python",
   "name": "python",
   "nbconvert_exporter": "python",
   "pygments_lexer": "ipython3",
   "version": "3.6.1"
  }
 },
 "nbformat": 4,
 "nbformat_minor": 2
}
