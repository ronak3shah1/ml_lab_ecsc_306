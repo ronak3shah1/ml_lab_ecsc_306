{
 "cells": [
  {
   "cell_type": "code",
   "execution_count": 2,
   "metadata": {
    "collapsed": true
   },
   "outputs": [],
   "source": [
    "import tensorflow as tf\n",
    "import numpy as np"
   ]
  },
  {
   "cell_type": "code",
   "execution_count": 38,
   "metadata": {},
   "outputs": [
    {
     "name": "stdout",
     "output_type": "stream",
     "text": [
      "| x1  | x2  |Y\n",
      "| 0.0 | 0.0 |0\n",
      "| 0.0 | 1.0 |0\n",
      "| 1.0 | 0.0 |0\n",
      "| 1.0 | 1.0 |1\n"
     ]
    }
   ],
   "source": [
    "a = tf.constant([0.0, 0.0, 1.0, 1.0])\n",
    "b = tf.constant([0.0, 1.0, 0.0, 1.0])\n",
    "w1 = 20.0\n",
    "w2 = 20.0\n",
    "bias = -30.0\n",
    "\n",
    "result = tf.multiply(a,w1)+tf.multiply(b,w2)+bias\n",
    "\n",
    "sess=tf.Session()\n",
    "sess.run(result[0])\n",
    "print(\"| x1 \",\"| x2 \",\"|Y\")\n",
    "for i in range(0,4,1):\n",
    "    if sess.run(result[i])<0.5:\n",
    "        print(\"|\",sess.run(a[i]),\"|\",sess.run(b[i]),\"|0\")\n",
    "    else: \n",
    "        print(\"|\",sess.run(a[i]),\"|\",sess.run(b[i]),\"|1\")\n",
    "        \n",
    "\n",
    "\n",
    "\n"
   ]
  },
  {
   "cell_type": "code",
   "execution_count": null,
   "metadata": {
    "collapsed": true
   },
   "outputs": [],
   "source": []
  }
 ],
 "metadata": {
  "kernelspec": {
   "display_name": "Python 3",
   "language": "python",
   "name": "python3"
  },
  "language_info": {
   "codemirror_mode": {
    "name": "ipython",
    "version": 3
   },
   "file_extension": ".py",
   "mimetype": "text/x-python",
   "name": "python",
   "nbconvert_exporter": "python",
   "pygments_lexer": "ipython3",
   "version": "3.6.1"
  }
 },
 "nbformat": 4,
 "nbformat_minor": 2
}
