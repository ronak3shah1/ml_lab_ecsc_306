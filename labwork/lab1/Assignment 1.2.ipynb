{
 "cells": [
  {
   "cell_type": "code",
   "execution_count": 6,
   "metadata": {},
   "outputs": [
    {
     "name": "stdout",
     "output_type": "stream",
     "text": [
      "3\n",
      "3\n",
      "216\n"
     ]
    }
   ],
   "source": [
    "import tensorflow as tf\n",
    "tf.reset_default_graph()\n",
    "x=int(input())\n",
    "y=int(input())\n",
    "with tf.name_scope(\"Split\"):\n",
    "    with tf.name_scope(\"a3\"):\n",
    "        a = tf.multiply(x,x)\n",
    "        b = tf.multiply(x,a)\n",
    "    with tf.name_scope(\"b3\"):\n",
    "        c = tf.multiply(y,y)\n",
    "        d = tf.multiply(y,c)\n",
    "    with tf.name_scope(\"3ab\"):\n",
    "        e = tf.multiply(x,y)\n",
    "        k = 3\n",
    "        f = tf.multiply(k,c)\n",
    "        g = tf.add(x,y)\n",
    "        h = tf.multiply(f,g)\n",
    "        \n",
    "with tf.name_scope(\"final\"):\n",
    "    i = tf.add(b,d)\n",
    "    j = tf.add(i,h)\n",
    "\n",
    "with tf.Session() as sess:\n",
    "    writer = tf.summary.FileWriter(\"/tmp/tboard/output_2\", sess.graph)\n",
    "    print(sess.run(j))\n",
    "    writer.close()"
   ]
  },
  {
   "cell_type": "code",
   "execution_count": null,
   "metadata": {
    "collapsed": true
   },
   "outputs": [],
   "source": []
  }
 ],
 "metadata": {
  "kernelspec": {
   "display_name": "Python 3",
   "language": "python",
   "name": "python3"
  },
  "language_info": {
   "codemirror_mode": {
    "name": "ipython",
    "version": 3
   },
   "file_extension": ".py",
   "mimetype": "text/x-python",
   "name": "python",
   "nbconvert_exporter": "python",
   "pygments_lexer": "ipython3",
   "version": "3.6.1"
  }
 },
 "nbformat": 4,
 "nbformat_minor": 2
}
